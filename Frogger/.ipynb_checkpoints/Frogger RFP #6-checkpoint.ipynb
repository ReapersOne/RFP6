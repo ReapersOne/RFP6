{
 "cells": [
  {
   "cell_type": "code",
   "execution_count": 1,
   "id": "ae521640",
   "metadata": {},
   "outputs": [
    {
     "name": "stdout",
     "output_type": "stream",
     "text": [
      "[]\n"
     ]
    }
   ],
   "source": [
    "import gymnasium as gym\n",
    "from gymnasium import envs\n",
    "\n",
    "all_envs = envs.registry.keys()\n",
    "atari_envs = [env_id for env_id in all_envs if \"ALE/\" in env_id]\n",
    "\n",
    "print(list(atari_envs)[:10])"
   ]
  },
  {
   "cell_type": "code",
   "execution_count": 2,
   "id": "67a65c32",
   "metadata": {},
   "outputs": [],
   "source": [
    "import gymnasium as gym\n",
    "import os\n",
    "import ale_py"
   ]
  },
  {
   "cell_type": "code",
   "execution_count": 3,
   "id": "b13bd659",
   "metadata": {},
   "outputs": [],
   "source": [
    "env = gym.make(\"ALE/Frogger-v5\", render_mode=\"human\")\n",
    "\n",
    "try:\n",
    "    observation, info = env.reset()\n",
    "    for _ in range(100):\n",
    "        action = env.action_space.sample()  # Random action\n",
    "        observation, reward, terminated, truncated, info = env.step(action)\n",
    "        \n",
    "        if terminated or truncated:\n",
    "            observation, info = env.reset()\n",
    "finally:\n",
    "    env.close()"
   ]
  },
  {
   "cell_type": "code",
   "execution_count": null,
   "id": "4b63f974",
   "metadata": {},
   "outputs": [],
   "source": [
    "print('Sekai')"
   ]
  }
 ],
 "metadata": {
  "kernelspec": {
   "display_name": "Python 3 (ipykernel)",
   "language": "python",
   "name": "python3"
  },
  "language_info": {
   "codemirror_mode": {
    "name": "ipython",
    "version": 3
   },
   "file_extension": ".py",
   "mimetype": "text/x-python",
   "name": "python",
   "nbconvert_exporter": "python",
   "pygments_lexer": "ipython3",
   "version": "3.9.13"
  }
 },
 "nbformat": 4,
 "nbformat_minor": 5
}
